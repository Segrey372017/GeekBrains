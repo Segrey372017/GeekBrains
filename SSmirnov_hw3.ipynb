{
  "cells":[
    {
      "cell_type":"code",
      "source":[
        "import numpy as np\n",
        "from math import factorial as fact\n",
        "from math import exp"
      ],
      "execution_count":0,
      "outputs":[
        
      ],
      "metadata":{
        
      }
    },
    {
      "cell_type":"code",
      "source":[
        "# полезные функции для расчетов из предыдущих домашних работ\n",
        "def combinations(n, k):\n",
        "    \"\"\"Вычисляет сочетания k элементов из множества n\"\"\"\n",
        "    return int(fact(n)\/(fact(k)*fact(n-k)))"
      ],
      "execution_count":0,
      "outputs":[
        
      ],
      "metadata":{
        
      }
    },
    {
      "cell_type":"code",
      "source":[
        "def p_binomial(k,n,p):\n",
        "    \"\"\" Вычисляет вероятность соответствующего значения случайной величины из отрезка от 0 до n. Формула Бернулли\"\"\"\n",
        "    return combinations(n,k)*p**k*(1-p)**(n-k)"
      ],
      "execution_count":0,
      "outputs":[
        
      ],
      "metadata":{
        
      }
    },
    {
      "cell_type":"code",
      "source":[
        "def p_puassons(n, m,p):\n",
        "    \"\"\" Вычисляет вероятность значений случайной величины (что событие произойдет m раз в n  испытаниях),\n",
        "     при количестве испытаний n, вероятности события p. Для распределения Пуассона \"\"\"\n",
        "    lambda_ = n*p # интенсивность случайной величины\n",
        "    return (lambda_**m\/fact(m))*exp(-lambda_)"
      ],
      "execution_count":0,
      "outputs":[
        
      ],
      "metadata":{
        
      }
    },
    {
      "cell_type":"code",
      "source":[
        "# Сомописные статистические функции для первой задачи\n",
        "def my_mean(data):\n",
        "    \"\"\" Вычисляет простое среднее арифметическок для одномерного массива\"\"\"\n",
        "    return sum(data)\/len(data)"
      ],
      "execution_count":0,
      "outputs":[
        
      ],
      "metadata":{
        
      }
    },
    {
      "cell_type":"code",
      "source":[
        "def my_variance(data, shift = True):\n",
        "    \"\"\" Вычисляет значение дисперсии для одномерного массива.\n",
        "        shift: True вычисляет смещенное значения для дисперсии (дисперсия по выборке), знаменатель n - число элементов\n",
        "        shift: False вычисляет несмещенную оценку дисперсии (дисперсия для ген. совокупности) n-1  \"\"\"\n",
        "    if type(data) != 'ndarray': # проверка на типовую безопасность если массив list или другой приводим к numpy\n",
        "        data = np.array(data)\n",
        "    \n",
        "    if shift:\n",
        "        return sum((data - my_mean(data))**2) \/ len(data) # смещенная оценка дисперсии\n",
        "    else:\n",
        "        return sum((data - my_mean(data))**2) \/ (len(data)-1) # несмещенная оценка дисперсии"
      ],
      "execution_count":0,
      "outputs":[
        
      ],
      "metadata":{
        
      }
    },
    {
      "cell_type":"code",
      "source":[
        "def my_std(data, shift = True):\n",
        "    \"\"\" Вычисляет значения стандартного оклонения для одномерного массива (квадратный корень из дисперсии)\n",
        "        shift: True вычисляет смещенное значения для дисперсии (дисперсия по выборке), знаменатель n - число элементов\n",
        "        shift: False вычисляет несмещенную оценку дисперсии (дисперсия для ген. совокупности) n-1  \"\"\"\n",
        "    return my_variance(data, shift)**(1\/2)"
      ],
      "execution_count":0,
      "outputs":[
        
      ],
      "metadata":{
        
      }
    },
    {
      "cell_type":"markdown",
      "source":[
        "<h3> Задача1<\/h3>\n",
        "<p> Даны значения зарплат из выборки выпускников: 100, 80, 75, 77, 89, 33, 45, 25, 65, 17, 30, 24, 57, 55, 70, 75, 65, 84, 90, 150. Посчитать (желательно без использования статистических методов наподобие std, var, mean) <ul> <li> среднее арифметическое,<\/li>  <li> среднее квадратичное отклонение, <\/li> <li> смещенную и несмещенную оценки дисперсий для данной выборки. <\/li> <\/ul><\/p>"
      ],
      "metadata":{
        
      }
    },
    {
      "cell_type":"code",
      "source":[
        "# Вычисли показатели описательной статистики для выборки\n",
        "\n",
        "grad = [100, 80, 75, 77, 89, 33, 45, 25, 65, 17, 30, 24, 57, 55, 70, 75, 65, 84, 90, 150]\n",
        "\n",
        "print(\"Ответ: среднее арифметическое для выборки \", my_mean(grad))\n",
        "print(\"Проверка \", np.mean(grad))"
      ],
      "execution_count":0,
      "outputs":[
        {
          "name":"stdout",
          "text":[
            "Ответ: среднее арифметическое для выборки  65.3\n",
            "Проверка  65.3\n"
          ],
          "output_type":"stream"
        }
      ],
      "metadata":{
        
      }
    },
    {
      "cell_type":"code",
      "source":[
        "print(\"Ответ: среднее квадратичное для выборки \", my_std(grad))  # библиотека numpy считает смещенную оценку дисперсии, как и было в лекции\n",
        "print(\"Проверка \", np.std(grad))"
      ],
      "execution_count":0,
      "outputs":[
        {
          "name":"stdout",
          "text":[
            "Ответ: среднее квадратичное для выборки  30.823854398825596\n",
            "Проверка  30.823854398825596\n"
          ],
          "output_type":"stream"
        }
      ],
      "metadata":{
        
      }
    },
    {
      "cell_type":"code",
      "source":[
        "print(\"Ответ: смещенная оценка дисперсии\", my_variance(grad))\n",
        "print(\"Проверка \", np.var(grad))"
      ],
      "execution_count":0,
      "outputs":[
        {
          "name":"stdout",
          "text":[
            "Ответ: смещенная оценка дисперсии 950.11\n",
            "Проверка  950.11\n"
          ],
          "output_type":"stream"
        }
      ],
      "metadata":{
        
      }
    },
    {
      "cell_type":"code",
      "source":[
        "print(\"Ответ несмещенная оценка дисперсии\", my_variance(grad, shift = False))\n",
        "print(\"Проверка \", np.var(grad, ddof=1)) # Указываем разность степеней свободы"
      ],
      "execution_count":0,
      "outputs":[
        {
          "name":"stdout",
          "text":[
            "Ответ несмещенная оценка дисперсии 1000.1157894736842\n",
            "Проверка  1000.1157894736842\n"
          ],
          "output_type":"stream"
        }
      ],
      "metadata":{
        
      }
    },
    {
      "cell_type":"code",
      "source":[
        "np.var?"
      ],
      "execution_count":0,
      "outputs":[
        {
          "name":"stdout",
          "text":[
            "\u001b[0;31mSignature:\u001b[0m \u001b[0mnp\u001b[0m\u001b[0;34m.\u001b[0m\u001b[0mvar\u001b[0m\u001b[0;34m(\u001b[0m\u001b[0ma\u001b[0m\u001b[0;34m,\u001b[0m \u001b[0maxis\u001b[0m\u001b[0;34m=\u001b[0m\u001b[0;32mNone\u001b[0m\u001b[0;34m,\u001b[0m \u001b[0mdtype\u001b[0m\u001b[0;34m=\u001b[0m\u001b[0;32mNone\u001b[0m\u001b[0;34m,\u001b[0m \u001b[0mout\u001b[0m\u001b[0;34m=\u001b[0m\u001b[0;32mNone\u001b[0m\u001b[0;34m,\u001b[0m \u001b[0mddof\u001b[0m\u001b[0;34m=\u001b[0m\u001b[0;36m0\u001b[0m\u001b[0;34m,\u001b[0m \u001b[0mkeepdims\u001b[0m\u001b[0;34m=\u001b[0m\u001b[0;34m<\u001b[0m\u001b[0mno\u001b[0m \u001b[0mvalue\u001b[0m\u001b[0;34m>\u001b[0m\u001b[0;34m)\u001b[0m\u001b[0;34m\u001b[0m\u001b[0;34m\u001b[0m\u001b[0m\n",
            "\u001b[0;31mDocstring:\u001b[0m\n",
            "Compute the variance along the specified axis.\n",
            "\n",
            "Returns the variance of the array elements, a measure of the spread of a\n",
            "distribution.  The variance is computed for the flattened array by\n",
            "default, otherwise over the specified axis.\n",
            "\n",
            "Parameters\n",
            "----------\n",
            "a : array_like\n",
            "    Array containing numbers whose variance is desired.  If `a` is not an\n",
            "    array, a conversion is attempted.\n",
            "axis : None or int or tuple of ints, optional\n",
            "    Axis or axes along which the variance is computed.  The default is to\n",
            "    compute the variance of the flattened array.\n",
            "\n",
            "    .. versionadded:: 1.7.0\n",
            "\n",
            "    If this is a tuple of ints, a variance is performed over multiple axes,\n",
            "    instead of a single axis or all the axes as before.\n",
            "dtype : data-type, optional\n",
            "    Type to use in computing the variance.  For arrays of integer type\n",
            "    the default is `float64`; for arrays of float types it is the same as\n",
            "    the array type.\n",
            "out : ndarray, optional\n",
            "    Alternate output array in which to place the result.  It must have\n",
            "    the same shape as the expected output, but the type is cast if\n",
            "    necessary.\n",
            "ddof : int, optional\n",
            "    \"Delta Degrees of Freedom\": the divisor used in the calculation is\n",
            "    ``N - ddof``, where ``N`` represents the number of elements. By\n",
            "    default `ddof` is zero.\n",
            "keepdims : bool, optional\n",
            "    If this is set to True, the axes which are reduced are left\n",
            "    in the result as dimensions with size one. With this option,\n",
            "    the result will broadcast correctly against the input array.\n",
            "\n",
            "    If the default value is passed, then `keepdims` will not be\n",
            "    passed through to the `var` method of sub-classes of\n",
            "    `ndarray`, however any non-default value will be.  If the\n",
            "    sub-class' method does not implement `keepdims` any\n",
            "    exceptions will be raised.\n",
            "\n",
            "Returns\n",
            "-------\n",
            "variance : ndarray, see dtype parameter above\n",
            "    If ``out=None``, returns a new array containing the variance;\n",
            "    otherwise, a reference to the output array is returned.\n",
            "\n",
            "See Also\n",
            "--------\n",
            "std, mean, nanmean, nanstd, nanvar\n",
            "ufuncs-output-type\n",
            "\n",
            "Notes\n",
            "-----\n",
            "The variance is the average of the squared deviations from the mean,\n",
            "i.e.,  ``var = mean(abs(x - x.mean())**2)``.\n",
            "\n",
            "The mean is normally calculated as ``x.sum() \/ N``, where ``N = len(x)``.\n",
            "If, however, `ddof` is specified, the divisor ``N - ddof`` is used\n",
            "instead.  In standard statistical practice, ``ddof=1`` provides an\n",
            "unbiased estimator of the variance of a hypothetical infinite population.\n",
            "``ddof=0`` provides a maximum likelihood estimate of the variance for\n",
            "normally distributed variables.\n",
            "\n",
            "Note that for complex numbers, the absolute value is taken before\n",
            "squaring, so that the result is always real and nonnegative.\n",
            "\n",
            "For floating-point input, the variance is computed using the same\n",
            "precision the input has.  Depending on the input data, this can cause\n",
            "the results to be inaccurate, especially for `float32` (see example\n",
            "below).  Specifying a higher-accuracy accumulator using the ``dtype``\n",
            "keyword can alleviate this issue.\n",
            "\n",
            "Examples\n",
            "--------\n",
            ">>> a = np.array([[1, 2], [3, 4]])\n",
            ">>> np.var(a)\n",
            "1.25\n",
            ">>> np.var(a, axis=0)\n",
            "array([1.,  1.])\n",
            ">>> np.var(a, axis=1)\n",
            "array([0.25,  0.25])\n",
            "\n",
            "In single precision, var() can be inaccurate:\n",
            "\n",
            ">>> a = np.zeros((2, 512*512), dtype=np.float32)\n",
            ">>> a[0, :] = 1.0\n",
            ">>> a[1, :] = 0.1\n",
            ">>> np.var(a)\n",
            "0.20250003\n",
            "\n",
            "Computing the variance in float64 is more accurate:\n",
            "\n",
            ">>> np.var(a, dtype=np.float64)\n",
            "0.20249999932944759 # may vary\n",
            ">>> ((1-0.55)**2 + (0.1-0.55)**2)\/2\n",
            "0.2025\n",
            "\u001b[0;31mFile:\u001b[0m      \/opt\/anaconda3\/envs\/datalore-user\/lib\/python3.7\/site-packages\/numpy\/core\/fromnumeric.py\n",
            "\u001b[0;31mType:\u001b[0m      function\n",
            "\n"
          ],
          "output_type":"stream"
        }
      ],
      "metadata":{
        
      }
    },
    {
      "cell_type":"markdown",
      "source":[
        "<h3> Задача2<\/h3>\n",
        "<p> В первом ящике находится 8 мячей, из которых 5 - белые. Во втором ящике - 12 мячей, из которых 5 белых. Из первого ящика вытаскивают случайным образом два мяча, из второго - 4. Какова вероятность того, что 3 мяча белые?<\/p>"
      ],
      "metadata":{
        
      }
    },
    {
      "cell_type":"code",
      "source":[
        "# Решаем через комбинаторику, как аналогичные задания в предыдущих работах\n",
        "\n",
        "box1 = {'w': 5, 'b':3} # первый ящик\n",
        "box2 = {'w':5, 'b': 7} # второй ящик\n",
        "bs1 = sum(box1.values())\n",
        "bs2 = sum(box2.values())\n",
        "print(bs1, '\\t', bs2)"
      ],
      "execution_count":0,
      "outputs":[
        {
          "name":"stdout",
          "text":[
            "8 \t 12\n"
          ],
          "output_type":"stream"
        }
      ],
      "metadata":{
        
      }
    },
    {
      "cell_type":"code",
      "source":[
        "# проанализируем возможные исходы. Случаи когда отбират из двух корзин мячи заданным способом\n",
        "# из первого ящика достали 2 мяча - белых, из второго 1 белый мяч и 3 другого цвета\n",
        "p_w = list() # массив для хранения вероятностей сходов\n",
        "p_w.append(combinations(box1['w'],2)\/combinations(bs1,2)* #благоприятные исходы вытащить 2 белых мяча, на все возможные где достают 2 мяча\n",
        "            combinations(box2['w'],1)*combinations(box2['b'],3)\/combinations(bs2,4))\n",
        "\n",
        "#из первого ящика достали 1 белый мяч, 1 другого цвета, из второго 2 белых, 2 другого цвета\n",
        "p_w.append(combinations(box1['w'],1)*combinations(box1['b'],1)\/combinations(bs1,2)* \n",
        "            combinations(box2['w'],2)*combinations(box2['b'],2)\/combinations(bs2,4))\n",
        "\n",
        "#из первого ящика достали 0 белых мячей, 2 другого цвета, из второго 3 белых мяча, 1 другого цвета\n",
        "p_w.append(combinations(box1['w'],0)*combinations(box1['b'],2)\/combinations(bs1,2)* \n",
        "            combinations(box2['w'],3)*combinations(box2['b'],1)\/combinations(bs2,4))\n",
        "\n",
        "#Для определения вероятности события, сложим вероятности возможных исходов\n",
        "print(\"Ответ: вероятность извлечь 3 белых мяча составляет\", sum(p_w))"
      ],
      "execution_count":0,
      "outputs":[
        {
          "name":"stdout",
          "text":[
            "Ответ: вероятность извлечь 3 белых мяча составляет 0.3686868686868686\n"
          ],
          "output_type":"stream"
        }
      ],
      "metadata":{
        
      }
    },
    {
      "cell_type":"markdown",
      "source":[
        "<h3> Задача3 <\/h3>\n",
        "<p> На соревновании по биатлону один из трех спортсменов стреляет и попадает в мишень. Вероятность попадания для первого спортсмена равна 0.9, для второго — 0.8, для третьего — 0.6. Найти вероятность того, что выстрел произведен:<ul> <li>a). первым спортсменом <\/li> <li> б). вторым спортсменом <\/li> <li> в). третьим спортсменом. <\/li> <\/ul> <\/p>"
      ],
      "metadata":{
        
      }
    },
    {
      "cell_type":"code",
      "source":[
        "#Для рашения задачи применим формулу байеса. \n",
        "#Считаем, что вероятность совершить выстрел для всех спортсменов одинакова и равна 1\/3\n",
        "#Событием А будем считать попадание в мишень, апостериорные вероятности наступления события B\n",
        "\n",
        "pAB1 = 0.9\n",
        "pAB2 = 0.8\n",
        "pAB3 = 0.6\n",
        "\n",
        "# Вероятность того, что мишень поразил первый спортсмен\n",
        "pA = 1\/3*pAB1+1\/3*pAB2+1\/3*pAB3 #Знаменатель формулы Байеса вероятность поражения мишени \n",
        "pB1A = 1\/3*pAB1\/pA\n",
        "print(\"Ответ: Вероятность поражения мишени первым спортсменом \", pB1A)\n",
        "\n",
        "# Вероятность того, что мишень поразил второй спортсмен\n",
        "pB2A = 1\/3*pAB2\/pA\n",
        "print(\"Ответ: Вероятность поражения мишени вторым спортсменом \", pB2A)\n",
        "\n",
        "# Вероятность того, что мишень поразил третий спортсмен\n",
        "pB3A = 1\/3*pAB3\/pA\n",
        "print(\"Ответ: Вероятность поражения мишени третьим спортсменом \", pB2A)\n",
        "\n",
        "print(\"Проверка сумма вероятностей 1 \", pB1A+pB2A+pB3A) # раз мишень поражена значит кто-то попал, вариант 3 промаха исключен"
      ],
      "execution_count":0,
      "outputs":[
        {
          "name":"stdout",
          "text":[
            "Ответ: Вероятность поражения мишени первым спортсменом  0.391304347826087\n",
            "Ответ: Вероятность поражения мишени вторым спортсменом  0.3478260869565218\n",
            "Ответ: Вероятность поражения мишени третьим спортсменом  0.3478260869565218\n",
            "Проверка сумма вероятностей 1  1.0\n"
          ],
          "output_type":"stream"
        }
      ],
      "metadata":{
        
      }
    },
    {
      "cell_type":"markdown",
      "source":[
        "<h3>  Задача4<\/h3>\n",
        "<p> В университет на факультеты A и B поступило равное количество студентов, а на факультет C студентов поступило столько же, сколько на A и B вместе. Вероятность того, что студент факультета A сдаст первую сессию, равна 0.8. Для студента факультета B эта вероятность равна 0.7, а для студента факультета C - 0.9. Студент сдал первую сессию. Какова вероятность, что он учится: <ul> <li>a). на факультете A <\/li>  <li> б). на факультете B <\/li> <li> в). на факультете C? <\/li> <\/ul> <\/p>"
      ],
      "metadata":{
        
      }
    },
    {
      "cell_type":"code",
      "source":[
        "# Также по формуле байеса\n",
        "# Определим вероятность здать сессию каким либо студентом факультета зависит от численности факультета  - априорная вероятност\n",
        "#  Пусть Х число студентов на Факультете А, тогда Х студентов учатся на факультете B, а на факультете С учится X+X=2X студентов,\n",
        "# всего студентов X+X+2X = 4X\n",
        "# Вероятности здачи сессии для факультетов:\n",
        "pB1_A = pB2_B = 1\/4 # факульте A и B\n",
        "pB3_C = 1 - pB1_A - pB2_B\n",
        "\n",
        "print(\"Веса факультетов\", pB1_A+pB2_B+pB3_C)\n",
        "\n",
        "#Вероятности успшной сдачи студента соотвествующего факультета\n",
        "pAB_A = 0.8 # факультет А\n",
        "pAB_B = 0.7 # факультет B\n",
        "pAB_C = 0.9 # факультет C\n",
        "\n",
        "#По формуле Байса определим вероятность того, что студент сдавший сессию учился на соответствующем факультете\n",
        "pABC = pB1_A*pAB_A+pB2_B*pAB_B+pB3_C*pAB_C # Знаменатель формулы байеса, студент сдал сессию\n",
        "\n",
        "pA= pB1_A*pAB_A \/ pABC\n",
        "print(\"Ответ: Вероятность, что студент учится на факультете А \", pA)\n",
        "\n",
        "pB= pB2_B*pAB_B \/ pABC\n",
        "print(\"Ответ: Вероятность, что студент учится на факультете B \", pB)\n",
        "\n",
        "pC= pB3_C*pAB_C \/ pABC\n",
        "print(\"Ответ: Вероятность, что студент учится на факультете C \", pC)\n",
        "\n",
        "print(\"Проверка: сумма вероятностей 1 \", pA+pB+pC) #Если студент здал сессию значить точно учится на одном из факультетов"
      ],
      "execution_count":0,
      "outputs":[
        {
          "name":"stdout",
          "text":[
            "Веса факультетов 1.0\n",
            "Ответ: Вероятность, что студент учится на факультете А  0.24242424242424246\n",
            "Ответ: Вероятность, что студент учится на факультете B  0.21212121212121213\n",
            "Ответ: Вероятность, что студент учится на факультете C  0.5454545454545455\n",
            "Проверка: сумма вероятностей 1  1.0\n"
          ],
          "output_type":"stream"
        }
      ],
      "metadata":{
        
      }
    },
    {
      "cell_type":"markdown",
      "source":[
        "<h3> Задача5<\/h3>\n",
        "<p> Устройство состоит из трех деталей. Для первой детали вероятность выйти из строя в первый месяц равна 0.1, для второй - 0.2, для третьей - 0.25. Какова вероятность того, что в первый месяц выйдут из строя: <ul> <li> а). все детали <\/li> <li> б). только две детали <\/li> <li> в). хотя бы одна деталь <\/li> <li> г). от одной до двух деталей? <\/li> <\/ul> <\/p3>"
      ],
      "metadata":{
        
      }
    },
    {
      "cell_type":"code",
      "source":[
        "# Для решения задачи применимв формулу Пуассона\n",
        "pD1 = 0.1 # Вероятность отказа первой детали\n",
        "pD2 = 0.2 # второй детали\n",
        "pD3 = 0.25 # третьей детали\n",
        "\n",
        "# Найдем вероятность отказа каждой детали в первый месяц работы \n",
        "pM = list() # массив для соответствующих вероятностей\n",
        "\n",
        "# вероятность отказа первой детали в первый месяц работы\n",
        "pM.append(p_puassons(1, # одна деталь данного типа\n",
        "           1, # в устройстве также 1 деталь\n",
        "           pD1)) # вероятность отказа детали\n",
        "\n",
        "# вероятность отказа второй детали в первый месяц работы\n",
        "pM.append(p_puassons(1, # одна деталь данного типа\n",
        "           1, # в устройстве также 1 деталь\n",
        "           pD2)) # вероятность отказа детали\n",
        "\n",
        "# вероятность отказа третьей детали в первый месяц работы\n",
        "pM.append(p_puassons(1, # одна деталь данного типа\n",
        "           1, # в устройстве также 1 деталь\n",
        "           pD3)) # вероятность отказа детали\n",
        "\n",
        "print(\"Ответ вероятность что откажут все детали \", np.prod(pM)) # вероятности перемножаются"
      ],
      "execution_count":0,
      "outputs":[
        {
          "name":"stdout",
          "text":[
            "Ответ вероятность что откажут все детали  0.002884749051902434\n"
          ],
          "output_type":"stream"
        }
      ],
      "metadata":{
        
      }
    },
    {
      "cell_type":"code",
      "source":[
        "# откажут только две детали\n",
        "p2from3 = pM[0]*pM[1] +             pM[0]*pM[2] +                 pM[1]*pM[2]\n",
        "   # отказали 1-я и 2-я детали   # отказали 1-я и 3-я детали     # отказали 2-я и 3-я детали\n",
        "print(\"Вероятность, что только 2 детали откажут \", p2from3)"
      ],
      "execution_count":0,
      "outputs":[
        {
          "name":"stdout",
          "text":[
            "Вероятность, что только 2 детали откажут  0.06431497423769086\n"
          ],
          "output_type":"stream"
        }
      ],
      "metadata":{
        
      }
    },
    {
      "cell_type":"code",
      "source":[
        "# Вероятность, что откажет хотя-бы одна деталь \n",
        "# найдем от противного, что ни одна деталь не сломается\n",
        "\n",
        "pNone = (1-pM[0])*(1-pM[1])*(1-pM[2])\n",
        "print(\"Вероятность что не сломается ни одной детали\", pNone)\n",
        "print(\"Вероятность, что сломается хотябы одна \", 1-pNone)"
      ],
      "execution_count":0,
      "outputs":[
        {
          "name":"stdout",
          "text":[
            "Вероятность что не сломается ни одной детали 0.6125001369987448\n",
            "Вероятность, что сломается хотябы одна  0.38749986300125516\n"
          ],
          "output_type":"stream"
        }
      ],
      "metadata":{
        
      }
    },
    {
      "cell_type":"code",
      "source":[
        "#Вероятность что выдут из строя от 1 до двух деталей\n",
        "# разобьем на 2 составляющие вышла из строя 1 из трех деталий или отказало только 2 детали\n",
        "# в первом случае складываются вероятности отказа каждой детали, вероятность отказа только двух уже вычислено\n",
        "print(\"Ответ: вероятность, что откажут от одной  до двух деталей равна \", sum(pM)+p2from3)"
      ],
      "execution_count":0,
      "outputs":[
        {
          "name":"stdout",
          "text":[
            "Ответ: вероятность, что откажут от одной  до двух деталей равна  0.5132450624247344\n"
          ],
          "output_type":"stream"
        }
      ],
      "metadata":{
        
      }
    }
  ],
  "metadata":{
    
  },
  "nbformat":4,
  "nbformat_minor":0
}