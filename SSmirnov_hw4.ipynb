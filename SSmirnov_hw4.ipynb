{
  "cells":[
    {
      "cell_type":"code",
      "source":[
        "import numpy as np"
      ],
      "execution_count":0,
      "outputs":[
        
      ],
      "metadata":{
        
      }
    },
    {
      "cell_type":"markdown",
      "source":[
        "<h3>  Задача1<\/h3>\n",
        "<p> Случайная непрерывная величина A имеет равномерное распределение на промежутке (200, 800].\n",
        "Найдите ее среднее значение и дисперсию.<\/p>"
      ],
      "metadata":{
        
      }
    },
    {
      "cell_type":"code",
      "source":[
        "# решаем по формулам свойств равномерного распределения\n",
        "a = 200\n",
        "b = 800\n",
        "mean = (a+b)\/2\n",
        "print(\"Ответ: среднее значение сл. величины\", mean)\n",
        "var_ab= (b-a)**2\/12\n",
        "print(\"Ответ: дисперсия сл. величины\", var_ab)"
      ],
      "execution_count":0,
      "outputs":[
        {
          "name":"stdout",
          "text":[
            "Ответ: среднее значение сл. величины 500.0\n",
            "Ответ: дисперсия сл. величины 30000.0\n"
          ],
          "output_type":"stream"
        }
      ],
      "metadata":{
        
      }
    },
    {
      "cell_type":"markdown",
      "source":[
        "<h3> Задача2<\/h3>\n",
        "<p> О случайной непрерывной равномерно распределенной величине B известно, что ее дисперсия равна 0.2.\n",
        "Можно ли найти правую границу величины B и ее среднее значение зная, что левая граница равна 0.5?\n",
        "Если да, найдите ее.<\/p>"
      ],
      "metadata":{
        
      }
    },
    {
      "cell_type":"code",
      "source":[
        "var_ab2 = 0.2\n",
        "a2 = 0.5 # левая граница\n",
        "# Из формулы дисперсии var = (b-a)**2\/12 найдем  правую границу распределения\n",
        "# Дисперсию умножим на 12 потом извлечем квадрадный корень и вычтем левую границу\n",
        "nom = (var_ab2*12)**0.5\n",
        "print(\"квадратный корень разности b-a \", nom, '\\t', -1*nom) # выражение в b-a может быть как положительным так и отрицательным"
      ],
      "execution_count":0,
      "outputs":[
        {
          "name":"stdout",
          "text":[
            "квадратный корень разности b-a  1.5491933384829668 \t -1.5491933384829668\n"
          ],
          "output_type":"stream"
        }
      ],
      "metadata":{
        
      }
    },
    {
      "cell_type":"code",
      "source":[
        "# найдем варианты правой границы\n",
        "b21 = nom+a2\n",
        "b22 = -nom+a2\n",
        "print(b21, '\\t', b22)"
      ],
      "execution_count":0,
      "outputs":[
        {
          "name":"stdout",
          "text":[
            "2.049193338482967 \t -1.0491933384829668\n"
          ],
          "output_type":"stream"
        }
      ],
      "metadata":{
        
      }
    },
    {
      "cell_type":"code",
      "source":[
        "# мы ищем правое значение значит подойдет только первый результат\n",
        "print('Ответ правая граница сл. величины ', b21)"
      ],
      "execution_count":0,
      "outputs":[
        {
          "name":"stdout",
          "text":[
            "Ответ правая граница сл. величины  2.049193338482967\n"
          ],
          "output_type":"stream"
        }
      ],
      "metadata":{
        
      }
    },
    {
      "cell_type":"code",
      "source":[
        "# проверка - пересчитаем дисперсию \n",
        "var_t =  ((b21-a2)**2)\/12\n",
        "print(round(var_t,1),  '\\t', var_ab2) # должны получиться близкие значения дисперсии"
      ],
      "execution_count":0,
      "outputs":[
        {
          "name":"stdout",
          "text":[
            "0.2 \t 0.2\n"
          ],
          "output_type":"stream"
        }
      ],
      "metadata":{
        
      }
    },
    {
      "cell_type":"markdown",
      "source":[
        "<h3> Задача3 <\/h3>\n",
        "<p> Непрерывная случайная величина X распределена нормально и задана плотностью распределения \n",
        "$$f(x) = (1 \/ (4 * sqrt(2*pi))) * (exp(-((x+2)**2) \/ 32))$$\n",
        "Найдите: <ul>\n",
        "<li> а). M(X) <\/li>\n",
        "<li> б). D(X) <\/li>\n",
        "<li> в). std(X) (среднее квадратичное отклонение) <\/li><\/ul><\/p>"
      ],
      "metadata":{
        
      }
    },
    {
      "cell_type":"code",
      "source":[
        "# Разбираем аргументы формулы\n",
        "\n",
        "# из выражения при экспоненте х+2 получим среднее арифметическое \n",
        "print(\"Ответ среднее арифметическое  M(X) равно  -2\")"
      ],
      "execution_count":0,
      "outputs":[
        {
          "name":"stdout",
          "text":[
            "Ответ среднее арифметическое  M(X) равно  -2\n"
          ],
          "output_type":"stream"
        }
      ],
      "metadata":{
        
      }
    },
    {
      "cell_type":"code",
      "source":[
        "# из знаменателя получим значение среднего квадратического отклонения 4 тогда дисперсия будет\n",
        "d = 4**2\n",
        "print(\"Ответ D(X) = \", d)\n",
        "print(\" Проверка - Знаменатель дроби в аргументе экспоненты \", 2*(4**2))"
      ],
      "execution_count":0,
      "outputs":[
        {
          "name":"stdout",
          "text":[
            "Ответ D(X) =  16\n",
            " Проверка - Знаменатель дроби в аргументе экспоненты  32\n"
          ],
          "output_type":"stream"
        }
      ],
      "metadata":{
        
      }
    },
    {
      "cell_type":"code",
      "source":[
        "print('Среднее квадратичное отклоение уже нашли выше', d**0.5)"
      ],
      "execution_count":0,
      "outputs":[
        {
          "name":"stdout",
          "text":[
            "Среднее квадратичное отклоение уже нашли выше 4.0\n"
          ],
          "output_type":"stream"
        }
      ],
      "metadata":{
        
      }
    },
    {
      "cell_type":"markdown",
      "source":[
        "<h3> Задача4 <\/h3>\n",
        "<p> Рост взрослого населения города X имеет нормальное распределение.\n",
        "Причем, средний рост равен 174 см, а среднее квадратичное отклонение равно 8 см.\n",
        "Какова вероятность того, что случайным образом выбранный взрослый человек имеет рост: <ul>\n",
        "<li> а). больше 182 см <\/li>\n",
        "<li> б). больше 190 см <\/li>\n",
        "<li> в). от 166 см до 190 см <\/li>\n",
        "<li> г). от 166 см до 182 см <\/li>\n",
        "<li> д). от 158 см до 190 см <\/li>\n",
        "<li> е). не выше 150 см или не ниже 190 см <\/li>\n",
        "<li> ё). не выше 150 см или не ниже 198 см <\/li>\n",
        "<li> ж). ниже 166 см. <ul> <\/li> <\/p>"
      ],
      "metadata":{
        
      }
    },
    {
      "cell_type":"code",
      "source":[
        "from scipy import stats # модуль статистических функций библиотели scipy"
      ],
      "execution_count":0,
      "outputs":[
        
      ],
      "metadata":{
        
      }
    },
    {
      "cell_type":"code",
      "source":[
        "stats.norm.cdf?"
      ],
      "execution_count":0,
      "outputs":[
        {
          "name":"stdout",
          "text":[
            "\u001b[0;31mSignature:\u001b[0m \u001b[0mstats\u001b[0m\u001b[0;34m.\u001b[0m\u001b[0mnorm\u001b[0m\u001b[0;34m.\u001b[0m\u001b[0mcdf\u001b[0m\u001b[0;34m(\u001b[0m\u001b[0mx\u001b[0m\u001b[0;34m,\u001b[0m \u001b[0;34m*\u001b[0m\u001b[0margs\u001b[0m\u001b[0;34m,\u001b[0m \u001b[0;34m**\u001b[0m\u001b[0mkwds\u001b[0m\u001b[0;34m)\u001b[0m\u001b[0;34m\u001b[0m\u001b[0;34m\u001b[0m\u001b[0m\n",
            "\u001b[0;31mDocstring:\u001b[0m\n",
            "Cumulative distribution function of the given RV.\n",
            "\n",
            "Parameters\n",
            "----------\n",
            "x : array_like\n",
            "    quantiles\n",
            "arg1, arg2, arg3,... : array_like\n",
            "    The shape parameter(s) for the distribution (see docstring of the\n",
            "    instance object for more information)\n",
            "loc : array_like, optional\n",
            "    location parameter (default=0)\n",
            "scale : array_like, optional\n",
            "    scale parameter (default=1)\n",
            "\n",
            "Returns\n",
            "-------\n",
            "cdf : ndarray\n",
            "    Cumulative distribution function evaluated at `x`\n",
            "\u001b[0;31mFile:\u001b[0m      \/opt\/anaconda3\/envs\/datalore-user\/lib\/python3.7\/site-packages\/scipy\/stats\/_distn_infrastructure.py\n",
            "\u001b[0;31mType:\u001b[0m      method\n",
            "\n"
          ],
          "output_type":"stream"
        }
      ],
      "metadata":{
        
      }
    },
    {
      "cell_type":"code",
      "source":[
        "stats.norm.cdf(0) # функция из библиотеки scipy аналогичная таблицам z-функции с накоплением"
      ],
      "execution_count":0,
      "outputs":[
        {
          "data":{
            "text\/plain":[
              "0.5"
            ]
          },
          "metadata":{
            
          },
          "output_type":"display_data"
        }
      ],
      "metadata":{
        
      }
    },
    {
      "cell_type":"code",
      "source":[
        "stats.norm.cdf(174, loc = 174, scale = 8)"
      ],
      "execution_count":0,
      "outputs":[
        {
          "data":{
            "text\/plain":[
              "0.5"
            ]
          },
          "metadata":{
            
          },
          "output_type":"display_data"
        }
      ],
      "metadata":{
        
      }
    },
    {
      "cell_type":"code",
      "source":[
        "# рост больше 182 см\n",
        "mh = 174 # средний рост\n",
        "stdh = 8 # среднее квадратичное роста\n",
        "# нормализуем значение роста\n",
        "h1 = (182 - mh)\/stdh\n",
        "print('Нормализованный рост', h1)"
      ],
      "execution_count":0,
      "outputs":[
        {
          "name":"stdout",
          "text":[
            "Нормализованный рост 1.0\n"
          ],
          "output_type":"stream"
        }
      ],
      "metadata":{
        
      }
    },
    {
      "cell_type":"code",
      "source":[
        "#Находим значения вероятности по таблицие, меньше равны заданной величины 1,0\n",
        "p1 = 0.8413 # для находждения вероятности того что рост превышает данное значение вычтем из 1\n",
        "print(\"а)Ответ вероятность что рост в населения в городе превышает 182 составляет \", round(1-p1,4))"
      ],
      "execution_count":0,
      "outputs":[
        {
          "name":"stdout",
          "text":[
            "а)Ответ вероятность что рост в населения в городе превышает 182 составляет  0.1587\n"
          ],
          "output_type":"stream"
        }
      ],
      "metadata":{
        
      }
    },
    {
      "cell_type":"code",
      "source":[
        "# проверка найдем значения с помощью библиотечной фунции \n",
        "print(\"Проверка \", round(1 - stats.norm.cdf(182,mh,stdh), 4))"
      ],
      "execution_count":0,
      "outputs":[
        {
          "name":"stdout",
          "text":[
            "Проверка  0.1587\n"
          ],
          "output_type":"stream"
        }
      ],
      "metadata":{
        
      }
    },
    {
      "cell_type":"code",
      "source":[
        "#больше 190 см\n",
        "h2 = (190-mh) \/ stdh\n",
        "print('Нормализованный рост', h2)"
      ],
      "execution_count":0,
      "outputs":[
        {
          "name":"stdout",
          "text":[
            "Нормализованный рост 2.0\n"
          ],
          "output_type":"stream"
        }
      ],
      "metadata":{
        
      }
    },
    {
      "cell_type":"code",
      "source":[
        "print(\"б) Вероятность, что выбранный человек имеет рост больше  190 см=\", round(1-stats.norm.cdf(190,mh,stdh),4))"
      ],
      "execution_count":0,
      "outputs":[
        {
          "name":"stdout",
          "text":[
            "б) Вероятность, что выбранный человек имеет рост больше  190 см= 0.0228\n"
          ],
          "output_type":"stream"
        }
      ],
      "metadata":{
        
      }
    },
    {
      "cell_type":"code",
      "source":[
        "#от 166 см до 190 см\n",
        "p190 = stats.norm.cdf(190,mh, stdh) # вероятность, что рост будет ниже 190\n",
        "p166 = stats.norm.cdf(166,mh, stdh) # вероятность, что рост будет ниже 166\n",
        "\n",
        "print(\"в) Вероятность что рост будет находится в диапазоне от 166 до 190 \", round(p190-p166,4))"
      ],
      "execution_count":0,
      "outputs":[
        {
          "name":"stdout",
          "text":[
            "в) Вероятность что рост будет находится в диапазоне от 166 до 190  0.8186\n"
          ],
          "output_type":"stream"
        }
      ],
      "metadata":{
        
      }
    },
    {
      "cell_type":"code",
      "source":[
        "# от 166 см до 182 см, аналогично\n",
        "p182 = stats.norm.cdf(182,mh, stdh) # вероятность, что рост будет ниже 190\n",
        "\n",
        "print(\"г) Вероятность, что рост будет находится в диапазоне от 166 до 182 \", round(p182-p166,4))"
      ],
      "execution_count":0,
      "outputs":[
        {
          "name":"stdout",
          "text":[
            "г) Вероятность, что рост будет находится в диапазоне от 166 до 182  0.6827\n"
          ],
          "output_type":"stream"
        }
      ],
      "metadata":{
        
      }
    },
    {
      "cell_type":"code",
      "source":[
        "#от 158 см до 190 см\n",
        "p158 = stats.norm.cdf(158,mh, stdh)\n",
        "print(\"д) Вероятность, что рост будет находится в диапазоне от 158 до 190 \", round(p190-p158,4))"
      ],
      "execution_count":0,
      "outputs":[
        {
          "name":"stdout",
          "text":[
            "д) Вероятность, что рост будет находится в диапазоне от 158 до 190  0.9545\n"
          ],
          "output_type":"stream"
        }
      ],
      "metadata":{
        
      }
    },
    {
      "cell_type":"code",
      "source":[
        "# не выше 150 см или не ниже 190 см\n",
        "p150 = stats.norm.cdf(150,mh, stdh) # не выше 150\n",
        "q190 = 1- p190 # из полной вероятности вычитаем все исходы где ниже 190\n",
        "\n",
        "print(\"е) Вероятность, что рост не выше 150 см или не ниже 190 см \", round(p150+q190,4))"
      ],
      "execution_count":0,
      "outputs":[
        {
          "name":"stdout",
          "text":[
            "е) Вероятность, что рост не выше 150 см или не ниже 190 см  0.0241\n"
          ],
          "output_type":"stream"
        }
      ],
      "metadata":{
        
      }
    },
    {
      "cell_type":"code",
      "source":[
        "# не выше 150 см или не ниже 198 см\n",
        "q198 = 1 - stats.norm.cdf(198,mh,stdh)\n",
        "print(\"ё) Вероятность, что рост не выше 150 см или не ниже 190 см \", round(p150+q198,4))"
      ],
      "execution_count":0,
      "outputs":[
        {
          "name":"stdout",
          "text":[
            "ё) Вероятность, что рост не выше 150 см или не ниже 190 см  0.0027\n"
          ],
          "output_type":"stream"
        }
      ],
      "metadata":{
        
      }
    },
    {
      "cell_type":"code",
      "source":[
        "# ниже 166 см, уже встречалась\n",
        "print(\"ж) Вероятность, что рост будет ниже 166 см \", round(p166,4))"
      ],
      "execution_count":0,
      "outputs":[
        {
          "name":"stdout",
          "text":[
            "ж) Вероятность, что рост будет ниже 166 см  0.1587\n"
          ],
          "output_type":"stream"
        }
      ],
      "metadata":{
        
      }
    },
    {
      "cell_type":"markdown",
      "source":[
        "<h3> Задача5 <\/h3>\n",
        "<p> На сколько сигм (средних квадратичных отклонений) отклоняется рост человека, равный 190 см, от\n",
        "математического ожидания роста в популяции, в которой M(X) = 178 см и D(X) = 25 кв.см? <\/p>"
      ],
      "metadata":{
        
      }
    },
    {
      "cell_type":"code",
      "source":[
        "# решаем через маштабирование к нормальному распределению с 0 срденим и ст. отклонением 1\n",
        "std5 = 25**0.5 # вычисляеем стандартное отклонение\n",
        "dx = 190 - 178 # вычисляем насколько данное значение находится далеко от центра распределения в см\n",
        "ds = dx \/ std5 # пересчитываем в единицы стандартного отклонения\n",
        "print(f\"Ответ: рост человека в 190 см отклоняется от среднего значения в данной популяции на {round(ds,4)} стандартных отклонения\")"
      ],
      "execution_count":0,
      "outputs":[
        {
          "name":"stdout",
          "text":[
            "Ответ: рост человека в 190 см отклоняется от среднего значения в данной популяции на 2.4 стандартных отклонения\n"
          ],
          "output_type":"stream"
        }
      ],
      "metadata":{
        
      }
    }
  ],
  "metadata":{
    
  },
  "nbformat":4,
  "nbformat_minor":0
}