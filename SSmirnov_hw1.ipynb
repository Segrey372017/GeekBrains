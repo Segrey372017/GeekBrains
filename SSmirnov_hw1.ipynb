{
  "cells":[
    {
      "cell_type":"code",
      "source":[
        "import numpy as np\n",
        "from math import factorial as fact"
      ],
      "execution_count":1,
      "outputs":[
        
      ],
      "metadata":{
        
      }
    },
    {
      "cell_type":"code",
      "source":[
        "def combinations(n, k):\n",
        "    \"\"\"Вычисляет сочетания k элементов из множества n\"\"\"\n",
        "    return int(fact(n)\/(fact(k)*fact(n-k)))"
      ],
      "execution_count":2,
      "outputs":[
        
      ],
      "metadata":{
        
      }
    },
    {
      "cell_type":"code",
      "source":[
        "def arragements(n, k):\n",
        "    \"\"\" Вычисляет размещения из k элементов, выбранных из множества n\"\"\"\n",
        "    return int(fact(n)\/ fact(n-k))"
      ],
      "execution_count":3,
      "outputs":[
        
      ],
      "metadata":{
        
      }
    },
    {
      "cell_type":"markdown",
      "source":[
        "<h3>Задача1<\/h3>\n",
        "<p>Из колоды в 52 карты извлекаются случайным образом 4 карты. <ul> <li> a) Найти вероятность того, что все карты – крести. <\/li> <li> б) Найти вероятность, что среди 4-х карт окажется хотя бы один туз. <\/li> <\/ul>"
      ],
      "metadata":{
        
      }
    },
    {
      "cell_type":"code",
      "source":[
        "#Вычислим все возможные сочетания 4 карт из 36 - все возможные исходы\n",
        "n = combinations(36, 4)\n",
        "print(n)"
      ],
      "execution_count":4,
      "outputs":[
        {
          "name":"stdout",
          "text":[
            "58905\n"
          ],
          "output_type":"stream"
        }
      ],
      "metadata":{
        
      }
    },
    {
      "cell_type":"code",
      "source":[
        "#Вычислим возможные сочетания 4-х карт относящихся к одной масти-крести (12 карт из 36) - благоприятные исходы\n",
        "m = combinations(12, 4)\n",
        "print(m)"
      ],
      "execution_count":5,
      "outputs":[
        {
          "name":"stdout",
          "text":[
            "495\n"
          ],
          "output_type":"stream"
        }
      ],
      "metadata":{
        
      }
    },
    {
      "cell_type":"code",
      "source":[
        "print(\"Ответ: Вероятность что все карты - крести \", m\/n)"
      ],
      "execution_count":6,
      "outputs":[
        {
          "name":"stdout",
          "text":[
            "Ответ: Вероятность что все карты - крести  0.008403361344537815\n"
          ],
          "output_type":"stream"
        }
      ],
      "metadata":{
        
      }
    },
    {
      "cell_type":"code",
      "source":[
        "C = np.array([combinations(4,1) * combinations(32,3),  # 1 туз и 3 карты\n",
        "              combinations(4,2) * combinations(32,2), # 2 туза и 2 карты\n",
        "              combinations(4, 3) * combinations(32,1), # 3 туза 1 карта\n",
        "              combinations(4, 4)])                    #  все четыре туза\n",
        "print(C)"
      ],
      "execution_count":7,
      "outputs":[
        {
          "name":"stdout",
          "text":[
            "[19840  2976   128     1]\n"
          ],
          "output_type":"stream"
        }
      ],
      "metadata":{
        
      }
    },
    {
      "cell_type":"code",
      "source":[
        "m = C.sum() # число благоприятных исходов\n",
        "print(m)"
      ],
      "execution_count":8,
      "outputs":[
        {
          "name":"stdout",
          "text":[
            "22945\n"
          ],
          "output_type":"stream"
        }
      ],
      "metadata":{
        
      }
    },
    {
      "cell_type":"code",
      "source":[
        "#общее число всех возможных исходов возъмем из решения выше\n",
        "print(\"Ответ: Вероятность что окажется хотя бы один туз: \", m\/n)"
      ],
      "execution_count":9,
      "outputs":[
        {
          "name":"stdout",
          "text":[
            "Ответ: Вероятность что окажется хотя бы один туз:  0.389525507172566\n"
          ],
          "output_type":"stream"
        }
      ],
      "metadata":{
        
      }
    },
    {
      "cell_type":"markdown",
      "source":[
        "<h3> Задача2 <\/h3>\n",
        "<p>На входной двери подъезда установлен кодовый замок, содержащий десять кнопок с цифрами от 0 до 9. Код содержит три цифры, которые нужно нажать одновременно. Какова вероятность того, что человек, не знающий код, откроет дверь с первой попытки? <\/p>"
      ],
      "metadata":{
        
      }
    },
    {
      "cell_type":"code",
      "source":[
        "m = 1 # благоприятный исход \n",
        "n = 10 #  количество цифр"
      ],
      "execution_count":10,
      "outputs":[
        
      ],
      "metadata":{
        
      }
    },
    {
      "cell_type":"code",
      "source":[
        "# Даном случае речь идет о возникновении одновременно трех независимых событий. \n",
        "#Нажатие одной кнопки не препятствует нажатию двух других и т.д. Соответственно вероятности пермножаются\n",
        "p1 = p2 = p3 = m\/n\n",
        "print(f\"Вероятности угадать одну кнопку первую {p1}, вторую {p2}, третью {p3}\")"
      ],
      "execution_count":11,
      "outputs":[
        {
          "name":"stdout",
          "text":[
            "Вероятности угадать одну кнопку первую 0.1, вторую 0.1, третью 0.1\n"
          ],
          "output_type":"stream"
        }
      ],
      "metadata":{
        
      }
    },
    {
      "cell_type":"code",
      "source":[
        "print(\"Ответ: Вероятность угадать сразу три цифры \", p1*p2*p3) # или 1 из 1000"
      ],
      "execution_count":12,
      "outputs":[
        {
          "name":"stdout",
          "text":[
            "Ответ: Вероятность угадать сразу три цифры  0.0010000000000000002\n"
          ],
          "output_type":"stream"
        }
      ],
      "metadata":{
        
      }
    },
    {
      "cell_type":"markdown",
      "source":[
        "<h3>Задача3 <\/h3>\n",
        "<p> В ящике имеется 15 деталей, из которых 9 окрашены. Рабочий случайным образом извлекает 3 детали. Какова вероятность того, что все извлеченные детали окрашены? <\/p>"
      ],
      "metadata":{
        
      }
    },
    {
      "cell_type":"code",
      "source":[
        "# В этом случае имеется последовательность взаимозависимых событий. При каждом отборе вероятность выбора окрашенной детали меняется\n",
        "p1 = 9\/15 # вероятность вытащить окрашенную деталь в первый раз\n",
        "p2 = 8\/14 # вероятность вытащить окрашенную деталь во второй раз\n",
        "p3 = 7\/13 # вероятность вытащить окрашенную деталь в третий раз"
      ],
      "execution_count":13,
      "outputs":[
        
      ],
      "metadata":{
        
      }
    },
    {
      "cell_type":"code",
      "source":[
        "print(\"Ответ: Вероятность вытащить окрашенные детали \\n\", p1*p2*p3)"
      ],
      "execution_count":14,
      "outputs":[
        {
          "name":"stdout",
          "text":[
            "Ответ: Вероятность вытащить окрашенные детали \n",
            " 0.18461538461538457\n"
          ],
          "output_type":"stream"
        }
      ],
      "metadata":{
        
      }
    },
    {
      "cell_type":"code",
      "source":[
        "#Вариант 2. Если детали отбираются одновременно \n",
        "m = combinations(9,3) # количество благоприятных исходов, когда отбираются 3 окрашенных детали в любом порядке\n",
        "n = combinations(15,3) # все возможные исходы - выбрать любые три детали\n",
        "print(f\"m = {m},\\t n = {n}\")"
      ],
      "execution_count":15,
      "outputs":[
        {
          "name":"stdout",
          "text":[
            "m = 84,\t n = 455\n"
          ],
          "output_type":"stream"
        }
      ],
      "metadata":{
        
      }
    },
    {
      "cell_type":"code",
      "source":[
        "print(\"Ответ: при одновременном отборе вероятность извлечь три окрашенных детали \", m\/n)"
      ],
      "execution_count":16,
      "outputs":[
        {
          "name":"stdout",
          "text":[
            "Ответ: при одновременном отборе вероятность извлечь три окрашенных детали  0.18461538461538463\n"
          ],
          "output_type":"stream"
        }
      ],
      "metadata":{
        
      }
    },
    {
      "cell_type":"markdown",
      "source":[
        "<h3> Задача4<\/h3>\n",
        "<p> В лотерее 100 билетов. Из них 2 выигрышных. Какова вероятность того, что 2 приобретенных билета окажутся выигрышными?<\/p>"
      ],
      "metadata":{
        
      }
    },
    {
      "cell_type":"code",
      "source":[
        "#Для решения задачи используем сочетания\n",
        "m = combinations(2,2) # сочетания в которых приобретаются только выигрышные билеты\n",
        "n = combinations(100, 2) # все возможные варианты приобретения двух билетов\n",
        "print(f\"m = {m},\\t n = {n}\")"
      ],
      "execution_count":17,
      "outputs":[
        {
          "name":"stdout",
          "text":[
            "m = 1,\t n = 4950\n"
          ],
          "output_type":"stream"
        }
      ],
      "metadata":{
        
      }
    },
    {
      "cell_type":"code",
      "source":[
        "print(\"Ответ: вероятность приобретения двух выигрышных билетов \", m\/n)"
      ],
      "execution_count":18,
      "outputs":[
        {
          "name":"stdout",
          "text":[
            "Ответ: вероятность приобретения двух выигрышных билетов  0.00020202020202020202\n"
          ],
          "output_type":"stream"
        }
      ],
      "metadata":{
        
      }
    },
    {
      "cell_type":"code",
      "source":[
        "# Вариант 2 при последовательной покупке билетов\n",
        "p1 = 2\/100\n",
        "p2 = 1\/99"
      ],
      "execution_count":20,
      "outputs":[
        
      ],
      "metadata":{
        
      }
    },
    {
      "cell_type":"code",
      "source":[
        "print(\"Ответ: вероятность приобретения двух выигрышных билетов \", p1*p2)"
      ],
      "execution_count":21,
      "outputs":[
        {
          "name":"stdout",
          "text":[
            "Ответ: вероятность приобретения двух выигрышных билетов  0.00020202020202020205\n"
          ],
          "output_type":"stream"
        }
      ],
      "metadata":{
        
      }
    }
  ],
  "metadata":{
    
  },
  "nbformat":4,
  "nbformat_minor":0
}